{
  "cells": [
    {
      "attachments": {},
      "cell_type": "markdown",
      "metadata": {
        "id": "Ia_GnzBr1EBU"
      },
      "source": [
        "# Patient Readmission Prediction"
      ]
    },
    {
      "attachments": {},
      "cell_type": "markdown",
      "metadata": {
        "id": "9Nlmb_6z1MiJ"
      },
      "source": [
        "## Authors \n",
        "- Dustin Pulver\n",
        "- Alex Koch\n",
        "- Apollo Lin\n",
        "\n",
        "\n",
        "All Libraries used in this assignment are displayed in the cell below. Running the below cell should be all the is required to properly install these libraries into this environment. The cell below it has code to install packages if for some reason it does not work in the first cell. \n",
        "\n",
        "You will need to have two csv files downloaded in your google drive. The third cell is run to mount to your google drive. if you place the csv files in folders with the same name as mine it should run easily. \n",
        "\n",
        "files\n",
        "*   C2T1_Train.csv\n",
        "*   C2T1_Train.csv\n"
      ]
    },
    {
      "attachments": {},
      "cell_type": "markdown",
      "metadata": {
        "id": "4msXE2NO3_im"
      },
      "source": [
        "# Task: Perdict patients readmission to the hospital.\n",
        "\n",
        "The goal of this task is to train a predictive model to predict whether a patient will be readmitted to the hospital or not. This is a simply binary classification problem, although the bonus aspect of this problem asks to predict whether the patient will be readmitted in less than or more than 30 days. This now makes it a multi-class prediction problem, No admission, <30 days, or >30 days. Both binary classification and multi-class classification will be conducted in the modelling phase. The majority of the data preprocessing stage will be the same for both problems, with slight modifications to account for the change in number of classes in the target feature. \n",
        "\n"
      ]
    },
    {
      "cell_type": "code",
      "execution_count": 48,
      "metadata": {
        "id": "yHYtJK9Ur0o_"
      },
      "outputs": [],
      "source": [
        "import pandas as pd\n",
        "import numpy as np\n",
        "from xgboost import XGBRegressor\n",
        "import seaborn as sns\n",
        "from sklearn.compose import ColumnTransformer\n",
        "from sklearn.pipeline import Pipeline\n",
        "from sklearn.preprocessing import StandardScaler, OneHotEncoder\n",
        "from sklearn.model_selection import GridSearchCV\n",
        "from xgboost.sklearn import XGBClassifier\n",
        "from imblearn.over_sampling import SMOTE\n",
        "from imblearn.pipeline import Pipeline as imbpipeline\n",
        "from sklearn.model_selection import StratifiedKFold\n",
        "from sklearn.preprocessing import Normalizer\n",
        "from sklearn.metrics import accuracy_score\n",
        "from sklearn.decomposition import PCA\n",
        "from sklearn.model_selection import train_test_split\n",
        "from sklearn.metrics import confusion_matrix\n",
        "from sklearn.metrics import accuracy_score"
      ]
    },
    {
      "cell_type": "code",
      "execution_count": 2,
      "metadata": {
        "id": "H2P2mRe121z3"
      },
      "outputs": [],
      "source": [
        "# !pip install seaborn"
      ]
    },
    {
      "cell_type": "code",
      "execution_count": 3,
      "metadata": {
        "colab": {
          "base_uri": "https://localhost:8080/"
        },
        "id": "8q9QI-Eqq5Tf",
        "outputId": "e7ca2c37-c488-45a3-c743-1f3c76a822c3"
      },
      "outputs": [
        {
          "name": "stdout",
          "output_type": "stream",
          "text": [
            "Mounted at /content/gdrive\n"
          ]
        }
      ],
      "source": [
        "from google.colab import drive\n",
        "drive.mount('/content/gdrive')"
      ]
    },
    {
      "cell_type": "code",
      "execution_count": 4,
      "metadata": {
        "colab": {
          "base_uri": "https://localhost:8080/"
        },
        "id": "3VgnUUlcrcG2",
        "outputId": "73d74a61-f029-4c1d-ae30-8f30da2124eb"
      },
      "outputs": [
        {
          "data": {
            "text/plain": [
              "(90766, 50)"
            ]
          },
          "execution_count": 4,
          "metadata": {},
          "output_type": "execute_result"
        }
      ],
      "source": [
        "data_train = pd.read_csv('/content/gdrive/MyDrive/CISC_451_AS2/C2T1_Train.csv')\n",
        "data_test = pd.read_csv('/content/gdrive/MyDrive/CISC_451_AS2/C2T1_Test.csv')\n",
        "data_train.shape"
      ]
    },
    {
      "cell_type": "markdown",
      "metadata": {
        "id": "xFkj9E1K8EbK"
      },
      "source": [
        "# Exploration"
      ]
    },
    {
      "cell_type": "markdown",
      "metadata": {
        "id": "h6N5ZyNGpqLC"
      },
      "source": [
        "The data exploration stage will consist of the following;\n",
        "\n",
        "*   Target feature balance check\n",
        "*   Null value check\n",
        "*   Correltaiton analysis\n",
        "\n",
        "\n",
        "\n",
        "\n",
        "\n"
      ]
    },
    {
      "cell_type": "code",
      "execution_count": 5,
      "metadata": {
        "colab": {
          "base_uri": "https://localhost:8080/"
        },
        "id": "WmoUswfCrvsG",
        "outputId": "819eb457-8c61-40cb-8caa-d5f322d54137"
      },
      "outputs": [
        {
          "name": "stdout",
          "output_type": "stream",
          "text": [
            "Index(['encounter_id2', 'patient_nbr2', 'race', 'gender', 'age', 'weight',\n",
            "       'admission_type_id', 'discharge_disposition_id', 'admission_source_id',\n",
            "       'time_in_hospital', 'payer_code', 'medical_specialty',\n",
            "       'num_lab_procedures', 'num_procedures', 'num_medications',\n",
            "       'number_outpatient', 'number_emergency', 'number_inpatient', 'diag_1',\n",
            "       'diag_2', 'diag_3', 'number_diagnoses', 'max_glu_serum', 'A1Cresult',\n",
            "       'metformin', 'repaglinide', 'nateglinide', 'chlorpropamide',\n",
            "       'glimepiride', 'acetohexamide', 'glipizide', 'glyburide', 'tolbutamide',\n",
            "       'pioglitazone', 'rosiglitazone', 'acarbose', 'miglitol', 'troglitazone',\n",
            "       'tolazamide', 'examide', 'citoglipton', 'insulin',\n",
            "       'glyburide-metformin', 'glipizide-metformin',\n",
            "       'glimepiride-pioglitazone', 'metformin-rosiglitazone',\n",
            "       'metformin-pioglitazone', 'change', 'diabetesMed', 'readmitted'],\n",
            "      dtype='object')\n"
          ]
        }
      ],
      "source": [
        "print(data_train.columns)"
      ]
    },
    {
      "cell_type": "code",
      "execution_count": 6,
      "metadata": {
        "colab": {
          "base_uri": "https://localhost:8080/"
        },
        "id": "WunIGkbezfmz",
        "outputId": "e5861a61-2248-4821-9345-e2e608e839e2"
      },
      "outputs": [
        {
          "data": {
            "text/plain": [
              "0         NO\n",
              "1         NO\n",
              "2         NO\n",
              "3        >30\n",
              "4        >30\n",
              "        ... \n",
              "90761    >30\n",
              "90762     NO\n",
              "90763     NO\n",
              "90764     NO\n",
              "90765     NO\n",
              "Name: readmitted, Length: 90766, dtype: object"
            ]
          },
          "execution_count": 6,
          "metadata": {},
          "output_type": "execute_result"
        }
      ],
      "source": [
        "data_train['readmitted']"
      ]
    },
    {
      "cell_type": "code",
      "execution_count": 7,
      "metadata": {
        "colab": {
          "base_uri": "https://localhost:8080/"
        },
        "id": "Qr7_CGa_stEX",
        "outputId": "308ece6c-1d8e-4b1e-fb84-f1a53c134a47"
      },
      "outputs": [
        {
          "data": {
            "text/plain": [
              "count     90766\n",
              "unique        3\n",
              "top          NO\n",
              "freq      49361\n",
              "Name: readmitted, dtype: object"
            ]
          },
          "execution_count": 7,
          "metadata": {},
          "output_type": "execute_result"
        }
      ],
      "source": [
        "data_train['readmitted'].describe()"
      ]
    },
    {
      "cell_type": "code",
      "execution_count": 8,
      "metadata": {
        "colab": {
          "base_uri": "https://localhost:8080/"
        },
        "id": "4tFtzPCJs5Vk",
        "outputId": "36b94684-0f06-417b-c7d2-a12082e4db25"
      },
      "outputs": [
        {
          "data": {
            "text/plain": [
              "array(['NO', '>30', '<30'], dtype=object)"
            ]
          },
          "execution_count": 8,
          "metadata": {},
          "output_type": "execute_result"
        }
      ],
      "source": [
        "data_train.readmitted.unique()"
      ]
    },
    {
      "cell_type": "code",
      "execution_count": 9,
      "metadata": {
        "colab": {
          "base_uri": "https://localhost:8080/",
          "height": 282
        },
        "id": "c6QEoQrstRsw",
        "outputId": "64f1ea31-042f-4078-b044-3278416c5a7e"
      },
      "outputs": [
        {
          "data": {
            "text/plain": [
              "<matplotlib.axes._subplots.AxesSubplot at 0x7ffa59ace790>"
            ]
          },
          "execution_count": 9,
          "metadata": {},
          "output_type": "execute_result"
        },
        {
          "data": {
            "image/png": "[encoded data removed]",
            "text/plain": [
              "<Figure size 432x288 with 1 Axes>"
            ]
          },
          "metadata": {
            "needs_background": "light"
          },
          "output_type": "display_data"
        }
      ],
      "source": [
        "data_train['readmitted'].hist()"
      ]
    },
    {
      "cell_type": "markdown",
      "metadata": {
        "id": "3322IxfW8-YD"
      },
      "source": [
        "When looking at the target class, readmitted, we can see there are 90,766 data samples, with 3 unique values, 'NO', '>30', '<30'. The about histogram shows the distribution on a univariate scale of the readmitted target feature. The histogram shows the imbalance in the dataset, with being readmitted <30 days has almost 5 times less occurrences than No readmittance. This imbalance will make it harder for the predictive model to perform well, further techniques in the modelling phase will be implemented to adjust for the imbalance. \n",
        "\n"
      ]
    },
    {
      "cell_type": "markdown",
      "metadata": {
        "id": "YLJgzZvm-aY1"
      },
      "source": [
        "The next exploratory step will be to determine the frequency of null values within each feature. Once this is determined the information will be used in the data preparation stage to either eliminate features or to replace the missing values. "
      ]
    },
    {
      "cell_type": "code",
      "execution_count": 10,
      "metadata": {
        "colab": {
          "base_uri": "https://localhost:8080/"
        },
        "id": "cTZA91OYuE8S",
        "outputId": "774ea081-fa48-46d2-f120-a60b1530ec71"
      },
      "outputs": [
        {
          "data": {
            "text/plain": [
              "encounter_id2               0\n",
              "patient_nbr2                0\n",
              "race                        0\n",
              "gender                      0\n",
              "age                         0\n",
              "weight                      0\n",
              "admission_type_id           0\n",
              "discharge_disposition_id    0\n",
              "admission_source_id         0\n",
              "time_in_hospital            0\n",
              "payer_code                  0\n",
              "medical_specialty           0\n",
              "num_lab_procedures          0\n",
              "num_procedures              0\n",
              "num_medications             0\n",
              "number_outpatient           0\n",
              "number_emergency            0\n",
              "number_inpatient            0\n",
              "diag_1                      0\n",
              "diag_2                      0\n",
              "diag_3                      0\n",
              "number_diagnoses            0\n",
              "max_glu_serum               0\n",
              "A1Cresult                   0\n",
              "metformin                   0\n",
              "repaglinide                 0\n",
              "nateglinide                 0\n",
              "chlorpropamide              0\n",
              "glimepiride                 0\n",
              "acetohexamide               0\n",
              "glipizide                   0\n",
              "glyburide                   0\n",
              "tolbutamide                 0\n",
              "pioglitazone                0\n",
              "rosiglitazone               0\n",
              "acarbose                    0\n",
              "miglitol                    0\n",
              "troglitazone                0\n",
              "tolazamide                  0\n",
              "examide                     0\n",
              "citoglipton                 0\n",
              "insulin                     0\n",
              "glyburide-metformin         0\n",
              "glipizide-metformin         0\n",
              "glimepiride-pioglitazone    0\n",
              "metformin-rosiglitazone     0\n",
              "metformin-pioglitazone      0\n",
              "change                      0\n",
              "diabetesMed                 0\n",
              "readmitted                  0\n",
              "dtype: int64"
            ]
          },
          "execution_count": 10,
          "metadata": {},
          "output_type": "execute_result"
        }
      ],
      "source": [
        "data_train.isnull().sum()"
      ]
    },
    {
      "cell_type": "markdown",
      "metadata": {
        "id": "yJMdf-jfAWO8"
      },
      "source": [
        "The null values are not appearing as they are represented with '?' question mark string values. I will now convert these values to NaN values that can be used with other built in packages. "
      ]
    },
    {
      "cell_type": "code",
      "execution_count": 11,
      "metadata": {
        "id": "IGhaINbgpnxo"
      },
      "outputs": [],
      "source": [
        "features_numeric = list(data_train.select_dtypes(include=['int64']))\n",
        "features_categorical = list(data_train.select_dtypes(include=['object']))"
      ]
    },
    {
      "cell_type": "code",
      "execution_count": 12,
      "metadata": {
        "colab": {
          "base_uri": "https://localhost:8080/"
        },
        "id": "OLE4jbA74q_W",
        "outputId": "462f295e-1a41-4907-c058-87619a45bb9c"
      },
      "outputs": [
        {
          "name": "stdout",
          "output_type": "stream",
          "text": [
            "encounter_id2                int64\n",
            "patient_nbr2                 int64\n",
            "race                        string\n",
            "gender                      string\n",
            "age                         string\n",
            "weight                      string\n",
            "admission_type_id            int64\n",
            "discharge_disposition_id     int64\n",
            "admission_source_id          int64\n",
            "time_in_hospital             int64\n",
            "payer_code                  string\n",
            "medical_specialty           string\n",
            "num_lab_procedures           int64\n",
            "num_procedures               int64\n",
            "num_medications              int64\n",
            "number_outpatient            int64\n",
            "number_emergency             int64\n",
            "number_inpatient             int64\n",
            "diag_1                      string\n",
            "diag_2                      string\n",
            "diag_3                      string\n",
            "number_diagnoses             int64\n",
            "max_glu_serum               string\n",
            "A1Cresult                   string\n",
            "metformin                   string\n",
            "repaglinide                 string\n",
            "nateglinide                 string\n",
            "chlorpropamide              string\n",
            "glimepiride                 string\n",
            "acetohexamide               string\n",
            "glipizide                   string\n",
            "glyburide                   string\n",
            "tolbutamide                 string\n",
            "pioglitazone                string\n",
            "rosiglitazone               string\n",
            "acarbose                    string\n",
            "miglitol                    string\n",
            "troglitazone                string\n",
            "tolazamide                  string\n",
            "examide                     string\n",
            "citoglipton                 string\n",
            "insulin                     string\n",
            "glyburide-metformin         string\n",
            "glipizide-metformin         string\n",
            "glimepiride-pioglitazone    string\n",
            "metformin-rosiglitazone     string\n",
            "metformin-pioglitazone      string\n",
            "change                      string\n",
            "diabetesMed                 string\n",
            "readmitted                  string\n",
            "dtype: object\n"
          ]
        }
      ],
      "source": [
        "convert_dict = {}\n",
        "\n",
        "for i in features_categorical:\n",
        "    convert_dict[i] = 'string'     \n",
        " \n",
        "data_train = data_train.astype(convert_dict)\n",
        "print(data_train.dtypes)"
      ]
    },
    {
      "cell_type": "code",
      "execution_count": 13,
      "metadata": {
        "id": "UDXkckLS6mKl"
      },
      "outputs": [],
      "source": [
        "data_train.replace('?', np.nan, inplace=True)"
      ]
    },
    {
      "cell_type": "code",
      "execution_count": 14,
      "metadata": {
        "colab": {
          "base_uri": "https://localhost:8080/"
        },
        "id": "lLy-dKMk3uRD",
        "outputId": "67f791dd-a531-4871-cdc6-025c9c745dee"
      },
      "outputs": [
        {
          "data": {
            "text/plain": [
              "encounter_id2                   0\n",
              "patient_nbr2                    0\n",
              "race                         2207\n",
              "gender                          0\n",
              "age                             0\n",
              "weight                      87840\n",
              "admission_type_id               0\n",
              "discharge_disposition_id        0\n",
              "admission_source_id             0\n",
              "time_in_hospital                0\n",
              "payer_code                  38730\n",
              "medical_specialty           43674\n",
              "num_lab_procedures              0\n",
              "num_procedures                  0\n",
              "num_medications                 0\n",
              "number_outpatient               0\n",
              "number_emergency                0\n",
              "number_inpatient                0\n",
              "diag_1                         17\n",
              "diag_2                        336\n",
              "diag_3                       1357\n",
              "number_diagnoses                0\n",
              "max_glu_serum                   0\n",
              "A1Cresult                       0\n",
              "metformin                       0\n",
              "repaglinide                     0\n",
              "nateglinide                     0\n",
              "chlorpropamide                  0\n",
              "glimepiride                     0\n",
              "acetohexamide                   0\n",
              "glipizide                       0\n",
              "glyburide                       0\n",
              "tolbutamide                     0\n",
              "pioglitazone                    0\n",
              "rosiglitazone                   0\n",
              "acarbose                        0\n",
              "miglitol                        0\n",
              "troglitazone                    0\n",
              "tolazamide                      0\n",
              "examide                         0\n",
              "citoglipton                     0\n",
              "insulin                         0\n",
              "glyburide-metformin             0\n",
              "glipizide-metformin             0\n",
              "glimepiride-pioglitazone        0\n",
              "metformin-rosiglitazone         0\n",
              "metformin-pioglitazone          0\n",
              "change                          0\n",
              "diabetesMed                     0\n",
              "readmitted                      0\n",
              "dtype: int64"
            ]
          },
          "execution_count": 14,
          "metadata": {},
          "output_type": "execute_result"
        }
      ],
      "source": [
        "data_train.isnull().sum() "
      ]
    },
    {
      "cell_type": "markdown",
      "metadata": {
        "id": "BMUBPKr0qMIF"
      },
      "source": [
        "The NULL values are now present, to deal with these null values steps will be taken in the data preperation phase"
      ]
    },
    {
      "cell_type": "code",
      "execution_count": 15,
      "metadata": {
        "colab": {
          "base_uri": "https://localhost:8080/",
          "height": 382
        },
        "id": "wDQzaoPdaVzM",
        "outputId": "25274d5a-91ae-427c-8fda-ad6bbdf2ccd3"
      },
      "outputs": [
        {
          "data": {
            "image/png": "[encoded data removed]",
            "text/plain": [
              "<Figure size 432x288 with 2 Axes>"
            ]
          },
          "metadata": {
            "needs_background": "light"
          },
          "output_type": "display_data"
        }
      ],
      "source": [
        "sns.heatmap(data_train.corr());"
      ]
    },
    {
      "cell_type": "markdown",
      "metadata": {
        "id": "S3l4K8FdaaKQ"
      },
      "source": [
        "From this we can see that patient ID and encounter ID are highly correlated, as well as number of medications and time in hospital. If two features which are highly correlated are both included in a model this tends to lead to worse performance in the data preparation stage some of these features will be removed"
      ]
    },
    {
      "cell_type": "markdown",
      "metadata": {
        "id": "_4xHB4JJBPwe"
      },
      "source": [
        "# Data preparation"
      ]
    },
    {
      "cell_type": "markdown",
      "metadata": {
        "id": "uRO9D7odBcPH"
      },
      "source": [
        "The null values are now visable. \n",
        "\n",
        "*   race                         2207\n",
        "*   weight                      87840\n",
        "*   payer_code                  38730\n",
        "*   medical_specialty           43674\n",
        "*   diag_1                         17\n",
        "*   diag_2                        336\n",
        "*   diag_3                       1357\n",
        "\n",
        "With 90,766 total patients, there are only 3% of patients with weight values. The weight feature has too many missing values and thus can easily be eliminated from the dataset. \n",
        "\n",
        "\n",
        "Race logically should not have any impact on readmission of a patient, I am determined it can be removed from the dataset. It is removed for lack of relevance and a significant amount of missing values with no proper or logical way of imputation. \n",
        "\n",
        "\n",
        "medical_specialty, is the specialty of the admitting physician, i.e. cardiology, internal medicine, general practice. I again do not believe this is relevant to the readmittance of a patient. Since the feature has a significant amount of missing values and a lack of importance it can be eliminated.\n",
        "\n",
        "payer code represents who paid for the admittance and medical care for each patient. This seems highly irrelevant to determine if a patient was readmitted. Since the feature has a significant amount of missing values and a lack of importance it can be eliminated.\n",
        "\n",
        "\n",
        "The goal of the assignment is to determine if patients will be readmitted, if a patient does not a a diagnosis 1, then they can be removed from the dataset. If the patient doesn't have a diag_1 they wont have a diag_2 or diag_3 same can be applied if they dont have a diag_2 they wont have a diag_3 and so on. The approach is to drop all patients without a diagnosis 1 and replace all missing values in diagnosis 2 and 3 with 0's to represent no additional diagnosis. \n",
        "\n",
        "\n",
        "\n",
        "\n",
        "\n",
        "\n",
        "\n"
      ]
    },
    {
      "cell_type": "code",
      "execution_count": 16,
      "metadata": {
        "id": "UkFRTaz3QcRK"
      },
      "outputs": [],
      "source": [
        "data_train_1 = data_train.dropna(subset=['diag_1'])"
      ]
    },
    {
      "cell_type": "code",
      "execution_count": 17,
      "metadata": {
        "colab": {
          "base_uri": "https://localhost:8080/"
        },
        "id": "NXv55XLVOjas",
        "outputId": "0a1b6a04-5109-4e0d-83cb-589812977c47"
      },
      "outputs": [
        {
          "data": {
            "text/plain": [
              "encounter_id2                   0\n",
              "patient_nbr2                    0\n",
              "race                         2205\n",
              "gender                          0\n",
              "age                             0\n",
              "weight                      87823\n",
              "admission_type_id               0\n",
              "discharge_disposition_id        0\n",
              "admission_source_id             0\n",
              "time_in_hospital                0\n",
              "payer_code                  38719\n",
              "medical_specialty           43668\n",
              "num_lab_procedures              0\n",
              "num_procedures                  0\n",
              "num_medications                 0\n",
              "number_outpatient               0\n",
              "number_emergency                0\n",
              "number_inpatient                0\n",
              "diag_1                          0\n",
              "diag_2                        335\n",
              "diag_3                       1356\n",
              "number_diagnoses                0\n",
              "max_glu_serum                   0\n",
              "A1Cresult                       0\n",
              "metformin                       0\n",
              "repaglinide                     0\n",
              "nateglinide                     0\n",
              "chlorpropamide                  0\n",
              "glimepiride                     0\n",
              "acetohexamide                   0\n",
              "glipizide                       0\n",
              "glyburide                       0\n",
              "tolbutamide                     0\n",
              "pioglitazone                    0\n",
              "rosiglitazone                   0\n",
              "acarbose                        0\n",
              "miglitol                        0\n",
              "troglitazone                    0\n",
              "tolazamide                      0\n",
              "examide                         0\n",
              "citoglipton                     0\n",
              "insulin                         0\n",
              "glyburide-metformin             0\n",
              "glipizide-metformin             0\n",
              "glimepiride-pioglitazone        0\n",
              "metformin-rosiglitazone         0\n",
              "metformin-pioglitazone          0\n",
              "change                          0\n",
              "diabetesMed                     0\n",
              "readmitted                      0\n",
              "dtype: int64"
            ]
          },
          "execution_count": 17,
          "metadata": {},
          "output_type": "execute_result"
        }
      ],
      "source": [
        "data_train_1.isnull().sum()"
      ]
    },
    {
      "cell_type": "code",
      "execution_count": 18,
      "metadata": {
        "colab": {
          "base_uri": "https://localhost:8080/"
        },
        "id": "DdYIth-7SDbA",
        "outputId": "26e11298-0ec8-4de3-96b6-a023628f9ff5"
      },
      "outputs": [
        {
          "name": "stderr",
          "output_type": "stream",
          "text": [
            "/usr/local/lib/python3.7/dist-packages/ipykernel_launcher.py:1: SettingWithCopyWarning: \n",
            "A value is trying to be set on a copy of a slice from a DataFrame.\n",
            "Try using .loc[row_indexer,col_indexer] = value instead\n",
            "\n",
            "See the caveats in the documentation: https://pandas.pydata.org/pandas-docs/stable/user_guide/indexing.html#returning-a-view-versus-a-copy\n",
            "  \"\"\"Entry point for launching an IPython kernel.\n",
            "/usr/local/lib/python3.7/dist-packages/ipykernel_launcher.py:2: SettingWithCopyWarning: \n",
            "A value is trying to be set on a copy of a slice from a DataFrame.\n",
            "Try using .loc[row_indexer,col_indexer] = value instead\n",
            "\n",
            "See the caveats in the documentation: https://pandas.pydata.org/pandas-docs/stable/user_guide/indexing.html#returning-a-view-versus-a-copy\n",
            "  \n"
          ]
        }
      ],
      "source": [
        "data_train_1['diag_2'] = data_train_1['diag_2'].fillna('0')\n",
        "data_train_1['diag_3'] = data_train_1['diag_3'].fillna('0')"
      ]
    },
    {
      "cell_type": "code",
      "execution_count": 19,
      "metadata": {
        "colab": {
          "base_uri": "https://localhost:8080/"
        },
        "id": "Tqk24w7ZSZxU",
        "outputId": "72feeac3-46d3-4dec-9b3a-3e2f278d054b"
      },
      "outputs": [
        {
          "data": {
            "text/plain": [
              "encounter_id2                   0\n",
              "patient_nbr2                    0\n",
              "race                         2205\n",
              "gender                          0\n",
              "age                             0\n",
              "weight                      87823\n",
              "admission_type_id               0\n",
              "discharge_disposition_id        0\n",
              "admission_source_id             0\n",
              "time_in_hospital                0\n",
              "payer_code                  38719\n",
              "medical_specialty           43668\n",
              "num_lab_procedures              0\n",
              "num_procedures                  0\n",
              "num_medications                 0\n",
              "number_outpatient               0\n",
              "number_emergency                0\n",
              "number_inpatient                0\n",
              "diag_1                          0\n",
              "diag_2                          0\n",
              "diag_3                          0\n",
              "number_diagnoses                0\n",
              "max_glu_serum                   0\n",
              "A1Cresult                       0\n",
              "metformin                       0\n",
              "repaglinide                     0\n",
              "nateglinide                     0\n",
              "chlorpropamide                  0\n",
              "glimepiride                     0\n",
              "acetohexamide                   0\n",
              "glipizide                       0\n",
              "glyburide                       0\n",
              "tolbutamide                     0\n",
              "pioglitazone                    0\n",
              "rosiglitazone                   0\n",
              "acarbose                        0\n",
              "miglitol                        0\n",
              "troglitazone                    0\n",
              "tolazamide                      0\n",
              "examide                         0\n",
              "citoglipton                     0\n",
              "insulin                         0\n",
              "glyburide-metformin             0\n",
              "glipizide-metformin             0\n",
              "glimepiride-pioglitazone        0\n",
              "metformin-rosiglitazone         0\n",
              "metformin-pioglitazone          0\n",
              "change                          0\n",
              "diabetesMed                     0\n",
              "readmitted                      0\n",
              "dtype: int64"
            ]
          },
          "execution_count": 19,
          "metadata": {},
          "output_type": "execute_result"
        }
      ],
      "source": [
        "data_train_1.isnull().sum()"
      ]
    },
    {
      "cell_type": "code",
      "execution_count": 20,
      "metadata": {
        "id": "HRlXt1tUS0NG"
      },
      "outputs": [],
      "source": [
        "data_train_2 = data_train_1.drop(columns=['medical_specialty', 'payer_code','weight','race'])"
      ]
    },
    {
      "cell_type": "code",
      "execution_count": 21,
      "metadata": {
        "colab": {
          "base_uri": "https://localhost:8080/"
        },
        "id": "3tdF5fLwTAmV",
        "outputId": "bc7c1fea-f5c6-4496-cdeb-c5f42a35698d"
      },
      "outputs": [
        {
          "data": {
            "text/plain": [
              "encounter_id2               0\n",
              "patient_nbr2                0\n",
              "gender                      0\n",
              "age                         0\n",
              "admission_type_id           0\n",
              "discharge_disposition_id    0\n",
              "admission_source_id         0\n",
              "time_in_hospital            0\n",
              "num_lab_procedures          0\n",
              "num_procedures              0\n",
              "num_medications             0\n",
              "number_outpatient           0\n",
              "number_emergency            0\n",
              "number_inpatient            0\n",
              "diag_1                      0\n",
              "diag_2                      0\n",
              "diag_3                      0\n",
              "number_diagnoses            0\n",
              "max_glu_serum               0\n",
              "A1Cresult                   0\n",
              "metformin                   0\n",
              "repaglinide                 0\n",
              "nateglinide                 0\n",
              "chlorpropamide              0\n",
              "glimepiride                 0\n",
              "acetohexamide               0\n",
              "glipizide                   0\n",
              "glyburide                   0\n",
              "tolbutamide                 0\n",
              "pioglitazone                0\n",
              "rosiglitazone               0\n",
              "acarbose                    0\n",
              "miglitol                    0\n",
              "troglitazone                0\n",
              "tolazamide                  0\n",
              "examide                     0\n",
              "citoglipton                 0\n",
              "insulin                     0\n",
              "glyburide-metformin         0\n",
              "glipizide-metformin         0\n",
              "glimepiride-pioglitazone    0\n",
              "metformin-rosiglitazone     0\n",
              "metformin-pioglitazone      0\n",
              "change                      0\n",
              "diabetesMed                 0\n",
              "readmitted                  0\n",
              "dtype: int64"
            ]
          },
          "execution_count": 21,
          "metadata": {},
          "output_type": "execute_result"
        }
      ],
      "source": [
        "data_train_2.isnull().sum()"
      ]
    },
    {
      "cell_type": "markdown",
      "metadata": {
        "id": "lVX2JG5wGYdG"
      },
      "source": [
        "Lastly each feature was examined by their attribute information to determine if, logically, they made sense to have in the final dataset. After examining all features and their information the following was determined to be irrelevant;\n",
        "\n",
        "*   discharge_disposition_id\n",
        "*   admission_source_id\n",
        "*   time_in_hospital\n",
        "*   encounter_id2 \n",
        "*   patient_nbr2\n",
        "\n",
        "\n",
        "Discharge disposition, is how the patient was discharged or released from the hospital. Since we are only concerned about readmission the way they were discarched seems irrelevant for this assignment. \n",
        "\n",
        "Admission source, similar to medical specialty as talked about earlier, is where the admission was from, i.e. physician referral, emergency room, etc.This again does not seem relevant to determine if the patient will be readmitted. \n",
        "\n",
        "Time in hospital is the number of days between admission and discharge. Again the days in hospital may be relevant to the problem although with logic I do not believe this will be useful in predicting readmission. Looking at the heat-map above number of medications and time in hospital are moderately correlated and thus one of these variables can be removed. \n",
        "\n",
        "Encounter id and patient number are both values which can be considered irrelevant to the prediction task at hand. They will provide helpful information for mapping the predictions within a csv file for the final step, although they are not relevant pieces of information for the prediction task. \n"
      ]
    },
    {
      "cell_type": "code",
      "execution_count": 22,
      "metadata": {
        "id": "4hX3Lq6BTV9A"
      },
      "outputs": [],
      "source": [
        "data_train_3 = data_train_2.drop(columns=['discharge_disposition_id', 'admission_source_id','time_in_hospital'])"
      ]
    },
    {
      "cell_type": "markdown",
      "metadata": {
        "id": "HK-BoEuIpksG"
      },
      "source": [
        "Next examining the reaming categorical features to determine if they can be one hot encoded or if they contain too many categories and other methods are more suitable. The first stand out is age, which is not a numeric feature but rather a range of 10 years for each patient. This is represented as a nominal value, this would represent a large number of categories and i think in general the model would be able to handle numeric value with more proper intent. The following cells will take the average of the age range and assign the patient such average value for their age. i.e. if someone's age is 40-50 they would be assigned a numeric age of 45. \n",
        "\n",
        "All other nominal features have no more than 30 unique categories/values, with exception to the diagnosis' 1 2 and 3. These diagnosis include at least 800 unique values/categories, using one hot encoding can degrade the performance of the model as a large amount of encodings would be created increasing the dimensionality of the dataset. Other solutions such as mean target encoding or ordinal encoding, rely on attributes such as ordinality or other features to provide encodings. Since the categorical variables are all nominal, ordinal encoding cannot be used. With mean target encoding, another feature which gives information about the diagnosis would need to be used, although such features do not exist. There doesn't seem to be a clear solution, so we will take the trade off of an increase in dimensional for an increase in important information, using one hot encoding. \n"
      ]
    },
    {
      "cell_type": "code",
      "execution_count": 23,
      "metadata": {
        "colab": {
          "base_uri": "https://localhost:8080/"
        },
        "id": "TtHPLywJkhhb",
        "outputId": "4a50e336-dde3-4d7f-b689-7689cb0b0745"
      },
      "outputs": [
        {
          "data": {
            "text/plain": [
              "0         [80-90)\n",
              "1        [90-100)\n",
              "2         [40-50)\n",
              "3         [40-50)\n",
              "4         [50-60)\n",
              "           ...   \n",
              "90761     [70-80)\n",
              "90762     [80-90)\n",
              "90763     [70-80)\n",
              "90764     [80-90)\n",
              "90765     [70-80)\n",
              "Name: age, Length: 90749, dtype: string"
            ]
          },
          "execution_count": 23,
          "metadata": {},
          "output_type": "execute_result"
        }
      ],
      "source": [
        "data_train_3['age']"
      ]
    },
    {
      "cell_type": "code",
      "execution_count": 24,
      "metadata": {
        "id": "p7TZuVYwhhRX"
      },
      "outputs": [],
      "source": [
        "mean_age_list = []\n",
        "\n",
        "for index, row in data_train_3.iterrows():\n",
        "  mean_age = 0\n",
        "  temp = row['age']\n",
        "  temp_0 = temp[1:2]\n",
        "  if(temp_0 == '0'):\n",
        "    mean_age = 5\n",
        "    mean_age_list.append(mean_age)\n",
        "  elif(temp_0 == '9'):\n",
        "    mean_age = 95\n",
        "    mean_age_list.append(mean_age)\n",
        "  else:\n",
        "    temp_first = int(temp[1:3])\n",
        "    temp_second = int(temp[4:6])\n",
        "    mean_age = (temp_first + temp_second)/2\n",
        "    mean_age_list.append(int(mean_age))\n",
        "\n",
        "data_train_3['age'] = mean_age_list\n",
        "\n"
      ]
    },
    {
      "cell_type": "code",
      "execution_count": 25,
      "metadata": {
        "colab": {
          "base_uri": "https://localhost:8080/"
        },
        "id": "eoIl3rnOhP17",
        "outputId": "58581748-ea59-407b-9b29-a0c4514c7241"
      },
      "outputs": [
        {
          "data": {
            "text/plain": [
              "0        85\n",
              "1        95\n",
              "2        45\n",
              "3        45\n",
              "4        55\n",
              "         ..\n",
              "90761    75\n",
              "90762    85\n",
              "90763    75\n",
              "90764    85\n",
              "90765    75\n",
              "Name: age, Length: 90749, dtype: int64"
            ]
          },
          "execution_count": 25,
          "metadata": {},
          "output_type": "execute_result"
        }
      ],
      "source": [
        "data_train_3['age']\n",
        "  "
      ]
    },
    {
      "cell_type": "markdown",
      "metadata": {
        "id": "btQ5XdMwTwlS"
      },
      "source": [
        "The last remaining step is to add an additional column for the binary prediction task, readmittance or not. The current readmittance column which has the 3 classes included (<30, >30, NO) will not be replaced as it will be used for the bonus task. For each task, either binary or multi-class prediction, the data-frame will be altered to include the correct information. \n"
      ]
    },
    {
      "cell_type": "code",
      "execution_count": 26,
      "metadata": {
        "id": "x4L3fwTPUuKU"
      },
      "outputs": [],
      "source": [
        "data_train_3['readmitted_binary'] = ''\n",
        "binary_list = []\n",
        "\n",
        "for index, row in data_train_3.iterrows():\n",
        "  temp = row['readmitted']\n",
        "  if ((temp == '<30' ) or (temp == '>30' )):\n",
        "    binary_list.append(1)\n",
        "  else:\n",
        "    binary_list.append(0)\n",
        "\n",
        "data_train_3['readmitted_binary'] = binary_list\n"
      ]
    },
    {
      "cell_type": "code",
      "execution_count": 27,
      "metadata": {
        "colab": {
          "base_uri": "https://localhost:8080/",
          "height": 282
        },
        "id": "a9GFbvP6WGUj",
        "outputId": "361fe3fa-212c-494e-ab5a-b615749a7f19"
      },
      "outputs": [
        {
          "data": {
            "text/plain": [
              "<matplotlib.axes._subplots.AxesSubplot at 0x7ffa5667fd90>"
            ]
          },
          "execution_count": 27,
          "metadata": {},
          "output_type": "execute_result"
        },
        {
          "data": {
            "image/png": "[encoded data removed]",
            "text/plain": [
              "<Figure size 432x288 with 1 Axes>"
            ]
          },
          "metadata": {
            "needs_background": "light"
          },
          "output_type": "display_data"
        }
      ],
      "source": [
        "data_train_3['readmitted_binary'].hist()"
      ]
    },
    {
      "cell_type": "code",
      "execution_count": 28,
      "metadata": {
        "id": "GdmA0V_ohQOm"
      },
      "outputs": [],
      "source": [
        "data_train_final = data_train_3.drop(columns=['encounter_id2','patient_nbr2'])"
      ]
    },
    {
      "cell_type": "markdown",
      "metadata": {
        "id": "TWKmj8bqWQV1"
      },
      "source": [
        "As seen previously with the multi-class target feature readmittence there was class imbalance, when we convert this to a binary feature the distribution becomes much more even. "
      ]
    },
    {
      "cell_type": "markdown",
      "metadata": {
        "id": "4-QrLG1-VaTC"
      },
      "source": [
        "# Modeling"
      ]
    },
    {
      "cell_type": "markdown",
      "metadata": {
        "id": "qguzkuYUtbGL"
      },
      "source": [
        "For model training in this assignment I will be using pipelines. The purpose of these pipelines are to streamline the process of hyper parameter tuning, preprocessing, model selection, cross validation, and testing. "
      ]
    },
    {
      "cell_type": "code",
      "execution_count": 29,
      "metadata": {
        "id": "CE55p7p0aNbF"
      },
      "outputs": [],
      "source": [
        "X_train_binary = data_train_final.drop(['readmitted','readmitted_binary'], axis=1)\n",
        "y_train_binary = data_train_final['readmitted_binary']"
      ]
    },
    {
      "cell_type": "code",
      "execution_count": 30,
      "metadata": {
        "id": "3g9L-zMEbCJY"
      },
      "outputs": [],
      "source": [
        "features_numeric_final = list(X_train_binary.select_dtypes(include=['int64']))\n",
        "features_categorical_final = list(X_train_binary.select_dtypes(include=['string']))"
      ]
    },
    {
      "attachments": {},
      "cell_type": "markdown",
      "metadata": {
        "id": "ve5p5HCFZBlD"
      },
      "source": [
        "### Binary classification"
      ]
    },
    {
      "cell_type": "markdown",
      "metadata": {
        "id": "sKR6o4QllGp8"
      },
      "source": [
        "For the binary classification task we will be using the XGBoost model or XGBClassifier. This is a gradient boosted decision tree model, it's hyper parameters will be tuned using a grid search and 5 fold cross validation. The pipeline is filled out with transformations for both categorical and numeric features to provide the necessary preprocessing steps. The grid-search will train and validate all combinations of hyper parameters to generate the most optimal set of hyper parameters and a trained version of the most optimal model. "
      ]
    },
    {
      "cell_type": "code",
      "execution_count": 31,
      "metadata": {
        "colab": {
          "base_uri": "https://localhost:8080/"
        },
        "id": "6stBawRq0uNt",
        "outputId": "46d5a967-7517-41f7-e2d1-91b167507139"
      },
      "outputs": [
        {
          "name": "stdout",
          "output_type": "stream",
          "text": [
            "Fitting 5 folds for each of 6 candidates, totalling 30 fits\n",
            "[CV 1/5] END my_classifier__max_depth=10, my_classifier__n_estimators=5;, score=(train=0.675, test=0.610) total time=   4.1s\n",
            "[CV 2/5] END my_classifier__max_depth=10, my_classifier__n_estimators=5;, score=(train=0.676, test=0.624) total time=   3.4s\n",
            "[CV 3/5] END my_classifier__max_depth=10, my_classifier__n_estimators=5;, score=(train=0.682, test=0.587) total time=   3.4s\n",
            "[CV 4/5] END my_classifier__max_depth=10, my_classifier__n_estimators=5;, score=(train=0.672, test=0.626) total time=   4.8s\n",
            "[CV 5/5] END my_classifier__max_depth=10, my_classifier__n_estimators=5;, score=(train=0.676, test=0.619) total time=   3.4s\n",
            "[CV 1/5] END my_classifier__max_depth=10, my_classifier__n_estimators=10;, score=(train=0.688, test=0.613) total time=   5.0s\n",
            "[CV 2/5] END my_classifier__max_depth=10, my_classifier__n_estimators=10;, score=(train=0.685, test=0.627) total time=   5.0s\n",
            "[CV 3/5] END my_classifier__max_depth=10, my_classifier__n_estimators=10;, score=(train=0.695, test=0.588) total time=   5.0s\n",
            "[CV 4/5] END my_classifier__max_depth=10, my_classifier__n_estimators=10;, score=(train=0.687, test=0.630) total time=   5.0s\n",
            "[CV 5/5] END my_classifier__max_depth=10, my_classifier__n_estimators=10;, score=(train=0.689, test=0.622) total time=   4.9s\n",
            "[CV 1/5] END my_classifier__max_depth=10, my_classifier__n_estimators=25;, score=(train=0.712, test=0.615) total time=  10.8s\n",
            "[CV 2/5] END my_classifier__max_depth=10, my_classifier__n_estimators=25;, score=(train=0.708, test=0.631) total time=   9.5s\n",
            "[CV 3/5] END my_classifier__max_depth=10, my_classifier__n_estimators=25;, score=(train=0.716, test=0.594) total time=   9.6s\n",
            "[CV 4/5] END my_classifier__max_depth=10, my_classifier__n_estimators=25;, score=(train=0.708, test=0.633) total time=  10.4s\n",
            "[CV 5/5] END my_classifier__max_depth=10, my_classifier__n_estimators=25;, score=(train=0.710, test=0.627) total time=   9.7s\n",
            "[CV 1/5] END my_classifier__max_depth=20, my_classifier__n_estimators=5;, score=(train=0.838, test=0.594) total time=   5.9s\n",
            "[CV 2/5] END my_classifier__max_depth=20, my_classifier__n_estimators=5;, score=(train=0.840, test=0.612) total time=   5.8s\n",
            "[CV 3/5] END my_classifier__max_depth=20, my_classifier__n_estimators=5;, score=(train=0.840, test=0.580) total time=   5.9s\n",
            "[CV 4/5] END my_classifier__max_depth=20, my_classifier__n_estimators=5;, score=(train=0.843, test=0.599) total time=   5.8s\n",
            "[CV 5/5] END my_classifier__max_depth=20, my_classifier__n_estimators=5;, score=(train=0.838, test=0.604) total time=   5.8s\n",
            "[CV 1/5] END my_classifier__max_depth=20, my_classifier__n_estimators=10;, score=(train=0.861, test=0.601) total time=   9.8s\n",
            "[CV 2/5] END my_classifier__max_depth=20, my_classifier__n_estimators=10;, score=(train=0.867, test=0.613) total time=   9.8s\n",
            "[CV 3/5] END my_classifier__max_depth=20, my_classifier__n_estimators=10;, score=(train=0.867, test=0.584) total time=   9.9s\n",
            "[CV 4/5] END my_classifier__max_depth=20, my_classifier__n_estimators=10;, score=(train=0.866, test=0.607) total time=   9.9s\n",
            "[CV 5/5] END my_classifier__max_depth=20, my_classifier__n_estimators=10;, score=(train=0.860, test=0.608) total time=   9.8s\n",
            "[CV 1/5] END my_classifier__max_depth=20, my_classifier__n_estimators=25;, score=(train=0.904, test=0.606) total time=  20.9s\n",
            "[CV 2/5] END my_classifier__max_depth=20, my_classifier__n_estimators=25;, score=(train=0.899, test=0.621) total time=  20.8s\n",
            "[CV 3/5] END my_classifier__max_depth=20, my_classifier__n_estimators=25;, score=(train=0.902, test=0.589) total time=  20.8s\n",
            "[CV 4/5] END my_classifier__max_depth=20, my_classifier__n_estimators=25;, score=(train=0.902, test=0.616) total time=  20.7s\n",
            "[CV 5/5] END my_classifier__max_depth=20, my_classifier__n_estimators=25;, score=(train=0.891, test=0.615) total time=  20.4s\n",
            "best score 0.6199187545641094\n",
            "best score {'my_classifier__max_depth': 10, 'my_classifier__n_estimators': 25}\n"
          ]
        }
      ],
      "source": [
        "np.random.seed(0)\n",
        "\n",
        "transformer_numeric = Pipeline( # transforms for numeric values in dataset\n",
        "    steps=[\n",
        "        ('scaler', StandardScaler()),# Standardize the feature set by removing the mean and scaling to unit variance.\n",
        "        ('normalize', Normalizer())] # normalize each row's feature values.\n",
        ")\n",
        "\n",
        "transformer_categorical = Pipeline( # transforms for categorical values in dataset\n",
        "    steps=[\n",
        "        ('onehot', OneHotEncoder(handle_unknown='ignore'))\n",
        "        # encode all the categorical values with binary values\n",
        "    ]\n",
        ")\n",
        "\n",
        "# Apply the above numeric and categgorical transformations to the whole dataset(dataframe)\n",
        "preprocessor = ColumnTransformer( \n",
        "    transformers=[\n",
        "        ('num', transformer_numeric, features_numeric_final),\n",
        "        ('cat', transformer_categorical, features_categorical_final)\n",
        "    ]\n",
        ")\n",
        "\n",
        "# Create a sklearn pipeline and complie the required steps\n",
        "full_pipline = Pipeline(\n",
        "    steps=[\n",
        "        ('preprocessor', preprocessor),\n",
        "        ('my_classifier', XGBClassifier( # XGBoost the claddifier being used in this pipeline\n",
        "           objective='binary:logistic', seed=1)) #objective='multi:softprob',num_class = 3 for multiclass\n",
        "    ]\n",
        ")\n",
        "\n",
        "# prepare parameters and their possible values for the following gridsearch\n",
        "param_grid = {\n",
        "    'my_classifier__n_estimators': [5, 10, 25],\n",
        "    'my_classifier__max_depth':[10, 20]\n",
        "}\n",
        "\n",
        "# Gridsearch with 5 k-fold validation\n",
        "grid_search_binary = GridSearchCV(\n",
        "    full_pipline, param_grid, cv=5, verbose=3, n_jobs=1,return_train_score=True)\n",
        "\n",
        "grid_search_binary.fit(X_train_binary, y_train_binary)\n",
        "\n",
        "print('best score {}'.format(grid_search_binary.best_score_))\n",
        "print('best score {}'.format(grid_search_binary.best_params_))"
      ]
    },
    {
      "attachments": {},
      "cell_type": "markdown",
      "metadata": {
        "id": "7Hjfw6LefbYN"
      },
      "source": [
        "### Validaiton Accuracy & Confusion matrix\n",
        "\n",
        "To get a validation accuracy and a confusion matrix the best model produced by the grid search is validated from a sample of the dataset. This was done for each approach, these values can be found in the 'other approaches tried' section at the bottom of the notebook. "
      ]
    },
    {
      "cell_type": "code",
      "execution_count": 33,
      "metadata": {
        "id": "qRW2Dlxvaz90"
      },
      "outputs": [],
      "source": [
        "X_train, X_val, y_train, y_val = train_test_split( X_train_binary, y_train_binary, test_size=0.33, random_state=42)"
      ]
    },
    {
      "cell_type": "code",
      "execution_count": 45,
      "metadata": {
        "id": "IlHLJRwbd8no"
      },
      "outputs": [],
      "source": [
        "y_pred = grid_search_binary.predict(X_val)"
      ]
    },
    {
      "cell_type": "code",
      "execution_count": 49,
      "metadata": {
        "colab": {
          "base_uri": "https://localhost:8080/"
        },
        "id": "Boy0VhQke91q",
        "outputId": "7fea5365-5865-4765-e5d6-e2feb1514865"
      },
      "outputs": [
        {
          "data": {
            "text/plain": [
              "0.7031521303592895"
            ]
          },
          "execution_count": 49,
          "metadata": {},
          "output_type": "execute_result"
        }
      ],
      "source": [
        "accuracy_score(y_val, y_pred)"
      ]
    },
    {
      "cell_type": "code",
      "execution_count": 47,
      "metadata": {
        "colab": {
          "base_uri": "https://localhost:8080/"
        },
        "id": "PO_HP6lUepSH",
        "outputId": "a894fc2d-11e9-41ef-e156-4a80ca9bd56a"
      },
      "outputs": [
        {
          "data": {
            "text/plain": [
              "array([[13359,  2797],\n",
              "       [ 6093,  7699]])"
            ]
          },
          "execution_count": 47,
          "metadata": {},
          "output_type": "execute_result"
        }
      ],
      "source": [
        "confusion_matrix(y_val, y_pred)"
      ]
    },
    {
      "attachments": {},
      "cell_type": "markdown",
      "metadata": {
        "id": "yynt0eZlnm5I"
      },
      "source": [
        "### Multi Class Classificaiton"
      ]
    },
    {
      "cell_type": "markdown",
      "metadata": {
        "id": "XdC8xecjnxoD"
      },
      "source": [
        "For the multi class classification task we will be using the same XGBoost model or XGBClassifier. This model will again be tuned using a grid search and 5 fold cross validation. The pipeline is filled out with the same transformations for both categorical and numeric features to provide the necessary preprocessing steps. We saw earlier that with the multi-class problem there exists a class imbalance, to help the model deal with this we will introduce SMOTE. SMOTE over-samples the minority class by creating synthetic examples to over populate said minority class, therefore rebalancing the dataset for training purposes. stratified k-fold will be added to maintain this class rebalance when generating the folds for the cross validation steps. "
      ]
    },
    {
      "cell_type": "code",
      "execution_count": 50,
      "metadata": {
        "id": "4zgoIzz2NmwO"
      },
      "outputs": [],
      "source": [
        "X_train_multi_class = data_train_final.drop(['readmitted','readmitted_binary'], axis=1)\n",
        "y_train_multi_class = data_train_final['readmitted']"
      ]
    },
    {
      "cell_type": "code",
      "execution_count": 51,
      "metadata": {
        "colab": {
          "base_uri": "https://localhost:8080/"
        },
        "id": "0wM_Skp-S-1h",
        "outputId": "f3053662-8ac8-427a-81bb-95d4e997a529"
      },
      "outputs": [
        {
          "name": "stdout",
          "output_type": "stream",
          "text": [
            "Fitting 5 folds for each of 6 candidates, totalling 30 fits\n",
            "[CV 1/5] END my_classifier__max_depth=10, my_classifier__n_estimators=5;, score=(train=0.578, test=0.545) total time= 1.2min\n",
            "[CV 2/5] END my_classifier__max_depth=10, my_classifier__n_estimators=5;, score=(train=0.578, test=0.547) total time= 1.4min\n",
            "[CV 3/5] END my_classifier__max_depth=10, my_classifier__n_estimators=5;, score=(train=0.572, test=0.548) total time= 1.3min\n",
            "[CV 4/5] END my_classifier__max_depth=10, my_classifier__n_estimators=5;, score=(train=0.576, test=0.547) total time= 1.4min\n",
            "[CV 5/5] END my_classifier__max_depth=10, my_classifier__n_estimators=5;, score=(train=0.576, test=0.554) total time= 1.3min\n",
            "[CV 1/5] END my_classifier__max_depth=10, my_classifier__n_estimators=10;, score=(train=0.585, test=0.550) total time= 1.5min\n",
            "[CV 2/5] END my_classifier__max_depth=10, my_classifier__n_estimators=10;, score=(train=0.587, test=0.554) total time= 1.4min\n",
            "[CV 3/5] END my_classifier__max_depth=10, my_classifier__n_estimators=10;, score=(train=0.585, test=0.553) total time= 1.3min\n",
            "[CV 4/5] END my_classifier__max_depth=10, my_classifier__n_estimators=10;, score=(train=0.587, test=0.552) total time= 1.4min\n",
            "[CV 5/5] END my_classifier__max_depth=10, my_classifier__n_estimators=10;, score=(train=0.588, test=0.553) total time= 1.4min\n",
            "[CV 1/5] END my_classifier__max_depth=10, my_classifier__n_estimators=25;, score=(train=0.607, test=0.564) total time= 1.9min\n",
            "[CV 2/5] END my_classifier__max_depth=10, my_classifier__n_estimators=25;, score=(train=0.602, test=0.561) total time= 2.0min\n",
            "[CV 3/5] END my_classifier__max_depth=10, my_classifier__n_estimators=25;, score=(train=0.604, test=0.563) total time= 1.8min\n",
            "[CV 4/5] END my_classifier__max_depth=10, my_classifier__n_estimators=25;, score=(train=0.608, test=0.566) total time= 1.9min\n",
            "[CV 5/5] END my_classifier__max_depth=10, my_classifier__n_estimators=25;, score=(train=0.609, test=0.569) total time= 1.9min\n",
            "[CV 1/5] END my_classifier__max_depth=20, my_classifier__n_estimators=5;, score=(train=0.713, test=0.553) total time= 1.5min\n",
            "[CV 2/5] END my_classifier__max_depth=20, my_classifier__n_estimators=5;, score=(train=0.699, test=0.559) total time= 1.5min\n",
            "[CV 3/5] END my_classifier__max_depth=20, my_classifier__n_estimators=5;, score=(train=0.692, test=0.555) total time= 1.4min\n",
            "[CV 4/5] END my_classifier__max_depth=20, my_classifier__n_estimators=5;, score=(train=0.690, test=0.561) total time= 1.6min\n",
            "[CV 5/5] END my_classifier__max_depth=20, my_classifier__n_estimators=5;, score=(train=0.682, test=0.559) total time= 1.4min\n",
            "[CV 1/5] END my_classifier__max_depth=20, my_classifier__n_estimators=10;, score=(train=0.726, test=0.561) total time= 2.0min\n",
            "[CV 2/5] END my_classifier__max_depth=20, my_classifier__n_estimators=10;, score=(train=0.724, test=0.560) total time= 1.9min\n",
            "[CV 3/5] END my_classifier__max_depth=20, my_classifier__n_estimators=10;, score=(train=0.712, test=0.557) total time= 1.9min\n",
            "[CV 4/5] END my_classifier__max_depth=20, my_classifier__n_estimators=10;, score=(train=0.717, test=0.564) total time= 1.8min\n",
            "[CV 5/5] END my_classifier__max_depth=20, my_classifier__n_estimators=10;, score=(train=0.711, test=0.562) total time= 1.8min\n",
            "[CV 1/5] END my_classifier__max_depth=20, my_classifier__n_estimators=25;, score=(train=0.753, test=0.567) total time= 3.0min\n",
            "[CV 2/5] END my_classifier__max_depth=20, my_classifier__n_estimators=25;, score=(train=0.746, test=0.566) total time= 3.0min\n",
            "[CV 3/5] END my_classifier__max_depth=20, my_classifier__n_estimators=25;, score=(train=0.738, test=0.567) total time= 3.2min\n",
            "[CV 4/5] END my_classifier__max_depth=20, my_classifier__n_estimators=25;, score=(train=0.746, test=0.567) total time= 3.0min\n",
            "[CV 5/5] END my_classifier__max_depth=20, my_classifier__n_estimators=25;, score=(train=0.738, test=0.569) total time= 2.9min\n",
            "best score 0.5672569624535924\n",
            "best score {'my_classifier__max_depth': 20, 'my_classifier__n_estimators': 25}\n"
          ]
        }
      ],
      "source": [
        "\n",
        "np.random.seed(0)\n",
        "\n",
        "transformer_numeric = Pipeline( # transforms for numeric values in dataset\n",
        "    steps=[\n",
        "        ('scaler', StandardScaler()),# Standardize the feature set by removing the mean and scaling to unit variance.\n",
        "        ('normalize', Normalizer())] \n",
        ")\n",
        "\n",
        "transformer_categorical = Pipeline( # transforms for categorical values in dataset\n",
        "    steps=[\n",
        "        ('onehot', OneHotEncoder(handle_unknown='ignore'))\n",
        "        # encode all the categorical values with binary values\n",
        "    ]\n",
        ")\n",
        "\n",
        "# Apply the above numeric and categgorical transformations to the whole dataset(dataframe)\n",
        "preprocessor = ColumnTransformer( \n",
        "    transformers=[\n",
        "        ('num', transformer_numeric, features_numeric_final),\n",
        "        ('cat', transformer_categorical, features_categorical_final)\n",
        "    ]\n",
        ")\n",
        "\n",
        "full_pipline = imbpipeline(\n",
        "    steps=[\n",
        "        ('preprocessor', preprocessor),\n",
        "        ('smote',SMOTE(random_state=11)), #add SMOTE to the pipeline steps\n",
        "        ('my_classifier', XGBClassifier( # XGBoost the classifier being used in this pipeline\n",
        "            objective='multi:softprob',num_class = 3, seed=1))\n",
        "    ]\n",
        ")\n",
        "\n",
        "stratisfied_kfold = StratifiedKFold(n_splits=5,shuffle=True,random_state=11)\n",
        "\n",
        "# prepare parameters and their possible values for the following gridsearch\n",
        "param_grid = {\n",
        "    'my_classifier__n_estimators': [5, 10, 25],\n",
        "    'my_classifier__max_depth':[10, 20]\n",
        "}\n",
        "\n",
        "# Gridsearch with 5 k-fold validation\n",
        "grid_search = GridSearchCV(\n",
        "    full_pipline, param_grid, cv=stratisfied_kfold, verbose=3, n_jobs=1,return_train_score=True)\n",
        "\n",
        "grid_search.fit(X_train_multi_class, y_train_multi_class)\n",
        "\n",
        "print('best score {}'.format(grid_search.best_score_))\n",
        "print('best score {}'.format(grid_search.best_params_))\n"
      ]
    },
    {
      "cell_type": "code",
      "execution_count": 52,
      "metadata": {
        "id": "33DCoryNrlzl"
      },
      "outputs": [],
      "source": [
        "X_train, X_val, y_train, y_val = train_test_split( X_train_multi_class, y_train_multi_class, test_size=0.33, random_state=42)"
      ]
    },
    {
      "cell_type": "code",
      "execution_count": 53,
      "metadata": {
        "id": "CbbrUwEIrnxk"
      },
      "outputs": [],
      "source": [
        "y_pred = grid_search.predict(X_val)"
      ]
    },
    {
      "cell_type": "code",
      "execution_count": 54,
      "metadata": {
        "colab": {
          "base_uri": "https://localhost:8080/"
        },
        "id": "GcRzQqqsrpYq",
        "outputId": "4f235c0d-5811-46e0-c338-d534c294df13"
      },
      "outputs": [
        {
          "data": {
            "text/plain": [
              "0.7339054360892213"
            ]
          },
          "execution_count": 54,
          "metadata": {},
          "output_type": "execute_result"
        }
      ],
      "source": [
        "accuracy_score(y_val, y_pred)"
      ]
    },
    {
      "cell_type": "code",
      "execution_count": 55,
      "metadata": {
        "colab": {
          "base_uri": "https://localhost:8080/"
        },
        "id": "mNPtP_m4rrNr",
        "outputId": "e60b1e4a-b1e6-4a3a-f846-5795ba45d26e"
      },
      "outputs": [
        {
          "data": {
            "text/plain": [
              "array([[  773,   426,  2144],\n",
              "       [  105,  5869,  4475],\n",
              "       [  152,   667, 15337]])"
            ]
          },
          "execution_count": 55,
          "metadata": {},
          "output_type": "execute_result"
        }
      ],
      "source": [
        "confusion_matrix(y_val, y_pred)"
      ]
    },
    {
      "cell_type": "markdown",
      "metadata": {
        "id": "ZVXK1lfiMKM2"
      },
      "source": [
        "The below cell takes all the same preprocessing steps which were taken for the training set. "
      ]
    },
    {
      "cell_type": "code",
      "execution_count": null,
      "metadata": {
        "colab": {
          "base_uri": "https://localhost:8080/"
        },
        "id": "U43KMd-kTzXN",
        "outputId": "8daeba81-389f-4ddf-84c7-aa7bd648f3ae"
      },
      "outputs": [
        {
          "name": "stderr",
          "output_type": "stream",
          "text": [
            "/usr/local/lib/python3.7/dist-packages/ipykernel_launcher.py:12: SettingWithCopyWarning: \n",
            "A value is trying to be set on a copy of a slice from a DataFrame.\n",
            "Try using .loc[row_indexer,col_indexer] = value instead\n",
            "\n",
            "See the caveats in the documentation: https://pandas.pydata.org/pandas-docs/stable/user_guide/indexing.html#returning-a-view-versus-a-copy\n",
            "  if sys.path[0] == '':\n",
            "/usr/local/lib/python3.7/dist-packages/ipykernel_launcher.py:13: SettingWithCopyWarning: \n",
            "A value is trying to be set on a copy of a slice from a DataFrame.\n",
            "Try using .loc[row_indexer,col_indexer] = value instead\n",
            "\n",
            "See the caveats in the documentation: https://pandas.pydata.org/pandas-docs/stable/user_guide/indexing.html#returning-a-view-versus-a-copy\n",
            "  del sys.path[0]\n"
          ]
        }
      ],
      "source": [
        "\n",
        "convert_dict_test = {}\n",
        "\n",
        "for i in features_categorical_final:\n",
        "    convert_dict_test[i] = 'string'     \n",
        "\n",
        "data_test = data_test.astype(convert_dict_test)\n",
        "\n",
        "data_test.replace('?', np.nan, inplace=True)\n",
        "\n",
        "data_test_1 = data_test.dropna(subset=['diag_1'])\n",
        "\n",
        "data_test_1['diag_2'] = data_test_1['diag_2'].fillna('0')\n",
        "data_test_1['diag_3'] = data_test_1['diag_3'].fillna('0')\n",
        "\n",
        "\n",
        "data_test_2 = data_test_1.drop(columns=['discharge_disposition_id', 'admission_source_id','time_in_hospital',\n",
        "                                        'medical_specialty', 'payer_code','weight','race','readmitted'])\n",
        "\n",
        "data_test_final = data_test_2.drop(columns=['encounter_id','patient_nbr'])\n",
        "\n",
        "mean_age_list = []\n",
        "\n",
        "for index, row in data_test_final.iterrows():\n",
        "  mean_age = 0\n",
        "  temp = row['age']\n",
        "  temp_0 = temp[1:2]\n",
        "  if(temp_0 == '0'):\n",
        "    mean_age = 5\n",
        "    mean_age_list.append(mean_age)\n",
        "  elif(temp_0 == '9'):\n",
        "    mean_age = 95\n",
        "    mean_age_list.append(mean_age)\n",
        "  else:\n",
        "    temp_first = int(temp[1:3])\n",
        "    temp_second = int(temp[4:6])\n",
        "    mean_age = (temp_first + temp_second)/2\n",
        "    mean_age_list.append(int(mean_age))\n",
        "\n",
        "data_test_final['age'] = mean_age_list"
      ]
    },
    {
      "cell_type": "markdown",
      "metadata": {
        "id": "LGinRmaeMTM9"
      },
      "source": [
        "The below two functions \"get_submission_multiclass\" and \"get_submission_binary\" were created to prepair a dataframe which can be easily converted to a csv file for submission."
      ]
    },
    {
      "cell_type": "code",
      "execution_count": null,
      "metadata": {
        "id": "wLGqLxAraYuY"
      },
      "outputs": [],
      "source": [
        "def get_submission_multiclass(saerch):\n",
        "\n",
        "  # prepare submission:\n",
        "  submission = pd.DataFrame()\n",
        "  submission['encounter_id'] = data_test_2['encounter_id']\n",
        "  submission['patient_nbr'] = data_test_2['patient_nbr']\n",
        "  submission['readmitted_temp'] = list(grid_search.predict_proba(data_test_final))\n",
        "\n",
        "  submission['readmitted'] = np.nan\n",
        "\n",
        "  temp_val = []\n",
        "\n",
        "  for index, row in submission.iterrows():\n",
        "      temp = row['readmitted_temp']\n",
        "      max_value = max(temp)\n",
        "      index_max = list(temp).index(max_value)\n",
        "      if index_max == 0:\n",
        "        temp_val.append('<30')\n",
        "      if index_max == 1:\n",
        "        temp_val.append('>30')\n",
        "      if index_max == 2:\n",
        "        temp_val.append('NO')\n",
        "  \n",
        "  submission['readmitted'] = temp_val\n",
        "\n",
        "  return  submission \n",
        "      "
      ]
    },
    {
      "cell_type": "code",
      "execution_count": null,
      "metadata": {
        "id": "-h_MzzPxeBZa"
      },
      "outputs": [],
      "source": [
        "def get_submission_binary(saerch):\n",
        "\n",
        "  # prepare submission:\n",
        "  submission = pd.DataFrame()\n",
        "  submission['encounter_id'] = data_test_2['encounter_id']\n",
        "  submission['patient_nbr'] = data_test_2['patient_nbr']\n",
        "  submission['readmitted_temp'] = list(grid_search_binary.predict_proba(data_test_final))\n",
        "  submission['readmitted'] = np.nan\n",
        "\n",
        "  temp_val = []\n",
        "\n",
        "  for index, row in submission.iterrows():\n",
        "      temp = row['readmitted_temp']\n",
        "      max_value = max(temp)\n",
        "      index_max = list(temp).index(max_value)\n",
        "      if index_max == 0:\n",
        "        temp_val.append('NO')\n",
        "      if index_max == 1:\n",
        "        temp_val.append('YES')\n",
        "  \n",
        "  submission['readmitted'] = temp_val\n",
        "\n",
        "  return  submission \n",
        "      "
      ]
    },
    {
      "cell_type": "code",
      "execution_count": null,
      "metadata": {
        "id": "2ArfFbjtrdFC"
      },
      "outputs": [],
      "source": [
        "sub = get_submission_binary(grid_search_binary)"
      ]
    },
    {
      "cell_type": "code",
      "execution_count": null,
      "metadata": {
        "id": "uM4sSqELc1xE"
      },
      "outputs": [],
      "source": [
        "sub_multiclass = get_submission_multiclass(grid_search)"
      ]
    },
    {
      "cell_type": "code",
      "execution_count": null,
      "metadata": {
        "id": "zfgOWIEL7gW6"
      },
      "outputs": [],
      "source": [
        "submission = sub_multiclass.drop('readmitted_temp', axis=1)"
      ]
    },
    {
      "cell_type": "code",
      "execution_count": null,
      "metadata": {
        "id": "CCMpgksns2c1"
      },
      "outputs": [],
      "source": [
        "submission_binary = sub.drop('readmitted_temp', axis=1)"
      ]
    },
    {
      "cell_type": "code",
      "execution_count": null,
      "metadata": {
        "colab": {
          "base_uri": "https://localhost:8080/",
          "height": 423
        },
        "id": "34jSxd9yq6fr",
        "outputId": "b8921d37-091f-49c7-8190-56c622126094"
      },
      "outputs": [
        {
          "data": {
            "text/html": [
              "\n",
              "  <div id=\"df-371b4c8f-505a-4338-af58-a578ebd2db27\">\n",
              "    <div class=\"colab-df-container\">\n",
              "      <div>\n",
              "<style scoped>\n",
              "    .dataframe tbody tr th:only-of-type {\n",
              "        vertical-align: middle;\n",
              "    }\n",
              "\n",
              "    .dataframe tbody tr th {\n",
              "        vertical-align: top;\n",
              "    }\n",
              "\n",
              "    .dataframe thead th {\n",
              "        text-align: right;\n",
              "    }\n",
              "</style>\n",
              "<table border=\"1\" class=\"dataframe\">\n",
              "  <thead>\n",
              "    <tr style=\"text-align: right;\">\n",
              "      <th></th>\n",
              "      <th>encounter_id</th>\n",
              "      <th>patient_nbr</th>\n",
              "      <th>readmitted</th>\n",
              "    </tr>\n",
              "  </thead>\n",
              "  <tbody>\n",
              "    <tr>\n",
              "      <th>0</th>\n",
              "      <td>168899775</td>\n",
              "      <td>88565423</td>\n",
              "      <td>NO</td>\n",
              "    </tr>\n",
              "    <tr>\n",
              "      <th>1</th>\n",
              "      <td>168901359</td>\n",
              "      <td>88590695</td>\n",
              "      <td>NO</td>\n",
              "    </tr>\n",
              "    <tr>\n",
              "      <th>2</th>\n",
              "      <td>168903045</td>\n",
              "      <td>61086362</td>\n",
              "      <td>NO</td>\n",
              "    </tr>\n",
              "    <tr>\n",
              "      <th>3</th>\n",
              "      <td>168903927</td>\n",
              "      <td>85993970</td>\n",
              "      <td>YES</td>\n",
              "    </tr>\n",
              "    <tr>\n",
              "      <th>4</th>\n",
              "      <td>168904515</td>\n",
              "      <td>45884291</td>\n",
              "      <td>NO</td>\n",
              "    </tr>\n",
              "    <tr>\n",
              "      <th>...</th>\n",
              "      <td>...</td>\n",
              "      <td>...</td>\n",
              "      <td>...</td>\n",
              "    </tr>\n",
              "    <tr>\n",
              "      <th>10995</th>\n",
              "      <td>206091009</td>\n",
              "      <td>93935111</td>\n",
              "      <td>NO</td>\n",
              "    </tr>\n",
              "    <tr>\n",
              "      <th>10996</th>\n",
              "      <td>206098845</td>\n",
              "      <td>112735382</td>\n",
              "      <td>NO</td>\n",
              "    </tr>\n",
              "    <tr>\n",
              "      <th>10997</th>\n",
              "      <td>206100591</td>\n",
              "      <td>89262995</td>\n",
              "      <td>YES</td>\n",
              "    </tr>\n",
              "    <tr>\n",
              "      <th>10998</th>\n",
              "      <td>206117205</td>\n",
              "      <td>106914191</td>\n",
              "      <td>YES</td>\n",
              "    </tr>\n",
              "    <tr>\n",
              "      <th>10999</th>\n",
              "      <td>206121411</td>\n",
              "      <td>91334525</td>\n",
              "      <td>YES</td>\n",
              "    </tr>\n",
              "  </tbody>\n",
              "</table>\n",
              "<p>10996 rows × 3 columns</p>\n",
              "</div>\n",
              "      <button class=\"colab-df-convert\" onclick=\"convertToInteractive('df-371b4c8f-505a-4338-af58-a578ebd2db27')\"\n",
              "              title=\"Convert this dataframe to an interactive table.\"\n",
              "              style=\"display:none;\">\n",
              "        \n",
              "  <svg xmlns=\"http://www.w3.org/2000/svg\" height=\"24px\"viewBox=\"0 0 24 24\"\n",
              "       width=\"24px\">\n",
              "    <path d=\"M0 0h24v24H0V0z\" fill=\"none\"/>\n",
              "    <path d=\"M18.56 5.44l.94 2.06.94-2.06 2.06-.94-2.06-.94-.94-2.06-.94 2.06-2.06.94zm-11 1L8.5 8.5l.94-2.06 2.06-.94-2.06-.94L8.5 2.5l-.94 2.06-2.06.94zm10 10l.94 2.06.94-2.06 2.06-.94-2.06-.94-.94-2.06-.94 2.06-2.06.94z\"/><path d=\"M17.41 7.96l-1.37-1.37c-.4-.4-.92-.59-1.43-.59-.52 0-1.04.2-1.43.59L10.3 9.45l-7.72 7.72c-.78.78-.78 2.05 0 2.83L4 21.41c.39.39.9.59 1.41.59.51 0 1.02-.2 1.41-.59l7.78-7.78 2.81-2.81c.8-.78.8-2.07 0-2.86zM5.41 20L4 18.59l7.72-7.72 1.47 1.35L5.41 20z\"/>\n",
              "  </svg>\n",
              "      </button>\n",
              "      \n",
              "  <style>\n",
              "    .colab-df-container {\n",
              "      display:flex;\n",
              "      flex-wrap:wrap;\n",
              "      gap: 12px;\n",
              "    }\n",
              "\n",
              "    .colab-df-convert {\n",
              "      background-color: #E8F0FE;\n",
              "      border: none;\n",
              "      border-radius: 50%;\n",
              "      cursor: pointer;\n",
              "      display: none;\n",
              "      fill: #1967D2;\n",
              "      height: 32px;\n",
              "      padding: 0 0 0 0;\n",
              "      width: 32px;\n",
              "    }\n",
              "\n",
              "    .colab-df-convert:hover {\n",
              "      background-color: #E2EBFA;\n",
              "      box-shadow: 0px 1px 2px rgba(60, 64, 67, 0.3), 0px 1px 3px 1px rgba(60, 64, 67, 0.15);\n",
              "      fill: #174EA6;\n",
              "    }\n",
              "\n",
              "    [theme=dark] .colab-df-convert {\n",
              "      background-color: #3B4455;\n",
              "      fill: #D2E3FC;\n",
              "    }\n",
              "\n",
              "    [theme=dark] .colab-df-convert:hover {\n",
              "      background-color: #434B5C;\n",
              "      box-shadow: 0px 1px 3px 1px rgba(0, 0, 0, 0.15);\n",
              "      filter: drop-shadow(0px 1px 2px rgba(0, 0, 0, 0.3));\n",
              "      fill: #FFFFFF;\n",
              "    }\n",
              "  </style>\n",
              "\n",
              "      <script>\n",
              "        const buttonEl =\n",
              "          document.querySelector('#df-371b4c8f-505a-4338-af58-a578ebd2db27 button.colab-df-convert');\n",
              "        buttonEl.style.display =\n",
              "          google.colab.kernel.accessAllowed ? 'block' : 'none';\n",
              "\n",
              "        async function convertToInteractive(key) {\n",
              "          const element = document.querySelector('#df-371b4c8f-505a-4338-af58-a578ebd2db27');\n",
              "          const dataTable =\n",
              "            await google.colab.kernel.invokeFunction('convertToInteractive',\n",
              "                                                     [key], {});\n",
              "          if (!dataTable) return;\n",
              "\n",
              "          const docLinkHtml = 'Like what you see? Visit the ' +\n",
              "            '<a target=\"_blank\" href=https://colab.research.google.com/notebooks/data_table.ipynb>data table notebook</a>'\n",
              "            + ' to learn more about interactive tables.';\n",
              "          element.innerHTML = '';\n",
              "          dataTable['output_type'] = 'display_data';\n",
              "          await google.colab.output.renderOutput(dataTable, element);\n",
              "          const docLink = document.createElement('div');\n",
              "          docLink.innerHTML = docLinkHtml;\n",
              "          element.appendChild(docLink);\n",
              "        }\n",
              "      </script>\n",
              "    </div>\n",
              "  </div>\n",
              "  "
            ],
            "text/plain": [
              "       encounter_id  patient_nbr readmitted\n",
              "0         168899775     88565423         NO\n",
              "1         168901359     88590695         NO\n",
              "2         168903045     61086362         NO\n",
              "3         168903927     85993970        YES\n",
              "4         168904515     45884291         NO\n",
              "...             ...          ...        ...\n",
              "10995     206091009     93935111         NO\n",
              "10996     206098845    112735382         NO\n",
              "10997     206100591     89262995        YES\n",
              "10998     206117205    106914191        YES\n",
              "10999     206121411     91334525        YES\n",
              "\n",
              "[10996 rows x 3 columns]"
            ]
          },
          "execution_count": 49,
          "metadata": {},
          "output_type": "execute_result"
        }
      ],
      "source": [
        "submission_binary.to_csv('C2T1_Test_Labled_Binary.csv', index=False)\n",
        "submission_binary"
      ]
    },
    {
      "attachments": {},
      "cell_type": "markdown",
      "metadata": {
        "id": "sMGQYH5rtsbj"
      },
      "source": [
        "# Other Approaches Attempted\n",
        "\n",
        "In the data preparation phase we converted age to a numeric value. We first trained a model with age as a nominal categorical feature which achieved 52% validation accuracy(1). We then tried changing age to a numerical value, this resulted in a increased performance of 57% validation accuracy(2). These were the first preprocessing steps, others followed leading to a final implementation with a 70% validation accuracy(5). \n",
        "\n",
        "It was debated to incorporate PCA into our pipeline to reduce the dimension of our dataset. Since PCA can only be used on numeric features, we first tried to apply it to only the numeric features, and leave the categorical features as is. This resulted in worse validation accuracy(3), and also did not reduce the dimension of our data set significantly as the majority of the features are categorical. \n",
        "\n",
        "The use of Adaboost and other simpler models such as SVM(4) were attempted. Adaboost is an alternative boosting model to XGBoost although after research, training , and testing it was determined that the research was correct in saying XGBoost generally outperforms adaboost. The simpler models such SVMs were trained and tested to familiarize the team with the processes of training in a pipeline. \n",
        "\n",
        "Below is a summary of all approaches, their validation accuracy and corresponding confusion matrix. \n",
        "\n",
        "Approach 6 is the bonus quesiton."
      ]
    },
    {
      "cell_type": "markdown",
      "metadata": {
        "id": "-R62HI0WhQ81"
      },
      "source": [
        "(1) preprocessing categorical Age with SVM\n",
        "val accuracy = 53% \n",
        "```\n",
        "[[12129,  10243],\n",
        "[3549,  4027]]\n",
        "```\n",
        "\n",
        "(2) preprocessing numeric Age with SVM\n",
        "val accuracy = 57% \n",
        "\n",
        "```\n",
        "[[12379,  8943],\n",
        "[4849,  3777]]\n",
        "```\n",
        "\n",
        "(3) preprocessing PCA with SVM  \n",
        "val accuracy = 53% \n",
        "\n",
        "```\n",
        "[[11279,  9213],\n",
        "[4579,  4877]]\n",
        "```\n",
        "\n",
        "(4) Final preprocessing with SVM\n",
        "val accuracy = 57% \n",
        "\n",
        "```\n",
        "[[12530,  7145],\n",
        "[6647,  3626]]\n",
        "```\n",
        "\n",
        "(5) Final preprocessing with XGBoost Binary Model\n",
        "\n",
        "val accuracy = 70%\n",
        "```\n",
        "[[13359,  2797],\n",
        "[ 6093,  7699]]\n",
        "```\n",
        "(6) Final preprocessing with XGBoost Multi-Class Model\n",
        "\n",
        "val accuracy = 73%\n",
        "```\n",
        "[[  773,   426,  2144],\n",
        "[  105,  5869,  4475],\n",
        "[  152,   667, 15337]])\n",
        "\n"
      ]
    }
  ],
  "metadata": {
    "accelerator": "GPU",
    "colab": {
      "collapsed_sections": [],
      "provenance": []
    },
    "kernelspec": {
      "display_name": "Python 3",
      "name": "python3"
    },
    "language_info": {
      "name": "python"
    }
  },
  "nbformat": 4,
  "nbformat_minor": 0
}
